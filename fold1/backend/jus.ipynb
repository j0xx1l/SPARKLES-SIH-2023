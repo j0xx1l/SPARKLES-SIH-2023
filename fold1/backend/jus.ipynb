{
 "cells": [
  {
   "cell_type": "code",
   "execution_count": null,
   "metadata": {},
   "outputs": [],
   "source": [
    "def count_characters(input_string):\n",
    "    # Use the len() function to get the length of the string\n",
    "    num_characters = len(input_string)\n",
    "    \n",
    "    # Print the result\n",
    "    print(f\"The number of characters in the string is: {num_characters}\")\n",
    "\n",
    "# Get input from the user\n",
    "user_input = input(\"Enter a string: \")\n",
    "\n",
    "# Call the function to count characters\n",
    "count_characters(user_input)\n"
   ]
  }
 ],
 "metadata": {
  "language_info": {
   "name": "python"
  }
 },
 "nbformat": 4,
 "nbformat_minor": 2
}

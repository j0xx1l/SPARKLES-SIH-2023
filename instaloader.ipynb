{
 "cells": [
  {
   "cell_type": "code",
   "execution_count": 2,
   "metadata": {},
   "outputs": [
    {
     "name": "stdout",
     "output_type": "stream",
     "text": [
      "1/1 [==============================] - 0s 98ms/step\n",
      "Prediction for christy_050505: Real (Probability: 0.1785)\n"
     ]
    }
   ],
   "source": [
    "import instaloader\n",
    "import numpy as np\n",
    "import tensorflow as tf\n",
    "\n",
    "\n",
    "# Function to get Instagram data using Instaloader\n",
    "import instaloader\n",
    "\n",
    "def get_instagram_data(username):\n",
    "    loader = instaloader.Instaloader()\n",
    "    try:\n",
    "        profile = instaloader.Profile.from_username(loader.context, username)\n",
    "        return {\n",
    "            \"userFollowerCount\": profile.followers,\n",
    "            \"userFollowingCount\": profile.followees,\n",
    "            \"userBiographyLength\": len(profile.biography),\n",
    "            \"userMediaCount\": profile.mediacount,\n",
    "            \"userHasProfilPic\": int(not profile.is_private and profile.profile_pic_url is not None),\n",
    "            \"userIsPrivate\": int(profile.is_private),\n",
    "            \"usernameDigitCount\": sum(c.isdigit() for c in profile.username),\n",
    "            \"usernameLength\": len(profile.username),\n",
    "        }\n",
    "    except instaloader.exceptions.ProfileNotExistsException:\n",
    "        print(f\"Profile with username '{username}' not found.\")\n",
    "        return None\n",
    "\n",
    "\n",
    "# Load the trained model\n",
    "load_model = tf.keras.models.load_model('D:/sih git/trainedmodel')\n",
    "\n",
    "# Get Instagram data from user input\n",
    "username = input(\"Enter Instagram username: \")\n",
    "insta_data = get_instagram_data(username)\n",
    "\n",
    "if insta_data:\n",
    "    # Convert Instagram data to NumPy array\n",
    "    X_new = np.array([list(insta_data.values())], dtype=np.float32)\n",
    "\n",
    "    # Make predictions\n",
    "    predictions = load_model.predict(X_new)\n",
    "\n",
    "    # Display predictions\n",
    "    print(f\"Prediction for {username}: {'Fake' if predictions[0] >= 0.5 else 'Real'} (Probability: {predictions[0][0]:.4f})\")\n",
    "\n",
    " "
   ]
  }
 ],
 "metadata": {
  "kernelspec": {
   "display_name": "Python 3",
   "language": "python",
   "name": "python3"
  },
  "language_info": {
   "codemirror_mode": {
    "name": "ipython",
    "version": 3
   },
   "file_extension": ".py",
   "mimetype": "text/x-python",
   "name": "python",
   "nbconvert_exporter": "python",
   "pygments_lexer": "ipython3",
   "version": "3.8.6"
  }
 },
 "nbformat": 4,
 "nbformat_minor": 2
}
